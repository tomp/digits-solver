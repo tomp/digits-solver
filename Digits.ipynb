{
 "cells": [
  {
   "cell_type": "markdown",
   "id": "dce405e3-017d-4c61-96f3-df9738028b0f",
   "metadata": {},
   "source": [
    "### Digits worksheet"
   ]
  },
  {
   "cell_type": "code",
   "execution_count": 3,
   "id": "21dbdb4d-aa53-4cab-8f12-89432f5810a3",
   "metadata": {},
   "outputs": [],
   "source": [
    "from typing import Iterable, Tuple\n",
    "from collections import deque\n",
    "from dataclasses import dataclass\n",
    "\n",
    "PLUS, MINUS, TIMES, DIVIDE = \"+\", \"-\", \"*\", \"/\"\n",
    "COMMUTATIVE = {PLUS: True, MINUS: False, TIMES: True, DIVIDE: False}\n",
    "ACTIONS = [PLUS, MINUS, TIMES, DIVIDE]\n",
    "\n",
    "\n",
    "def pairs(n: int, ordered: bool = False) -> Iterable[Tuple[int, int]]:\n",
    "    for i in range(n-1):\n",
    "        for j in range(i+1, n):\n",
    "            yield (i, j)\n",
    "            if not ordered:\n",
    "                yield (j, i)\n",
    "\n",
    "                \n",
    "def use_values(i: int, j: int, values: list[int]) -> Tuple[int, int, list[int]]:\n",
    "    i0, j0 = min(i, j), max(i, j)\n",
    "    return values[i], values[j], values[:i0] + values[i0+1:j0] + values[j0+1:]\n",
    "    \n",
    "    \n",
    "@dataclass\n",
    "class State:\n",
    "    operands: list[int]\n",
    "    history: list[str]\n",
    "    \n",
    "    def __post_init__(self):\n",
    "        self.operands.sort()\n",
    "        self._hash = hash(tuple(self.operands))\n",
    "        \n",
    "    def __hash__(self):\n",
    "        return self._hash\n",
    "    \n",
    "    def moves(self) -> Iterable[\"State\"]:\n",
    "        n = len(self.operands)\n",
    "        for action in ACTIONS:\n",
    "            ordered = COMMUTATIVE[action]\n",
    "            for i, j in pairs(n, ordered):\n",
    "                a, b, values = use_values(i, j, self.operands)\n",
    "                if not (a and b):\n",
    "                    continue\n",
    "                if action == PLUS:\n",
    "                    result = a + b\n",
    "                elif action == MINUS:\n",
    "                    result = a - b\n",
    "                elif action == TIMES:\n",
    "                    result = a * b\n",
    "                elif action == DIVIDE:\n",
    "                    if a % b:\n",
    "                        continue\n",
    "                    result = a // b\n",
    "\n",
    "                operation = f\"{a} {action} {b}\"\n",
    "                history = self.history.copy()\n",
    "                history.append(operation)\n",
    "                yield(State(values + [result], history))"
   ]
  },
  {
   "cell_type": "code",
   "execution_count": 7,
   "id": "eb0bc81a-5140-4c65-8279-2162c750e861",
   "metadata": {},
   "outputs": [
    {
     "name": "stdout",
     "output_type": "stream",
     "text": [
      "State(operands=[18, 421], history=['6 * 12', '10 + 72', '5 * 82', '11 + 410'])\n",
      "State(operands=[6, 421], history=['10 * 12', '18 * 120', '2160 / 5', '432 - 11'])\n",
      "State(operands=[421], history=['5 + 6', '11 + 12', '18 + 23', '10 * 41', '11 + 410'])\n"
     ]
    }
   ],
   "source": [
    "target = 421\n",
    "values = [5, 6, 10, 11, 18, 12]\n",
    "\n",
    "# target = 113\n",
    "# values = [6, 10, 11, 18]\n",
    "\n",
    "init = State(list(values), [])\n",
    "queue = deque([init])\n",
    "seen = set([init])\n",
    "\n",
    "count = 0\n",
    "while queue:\n",
    "    count += 1\n",
    "    curr = queue.popleft()\n",
    "    # print(f\"\\n{count:3d}: {str(curr)}\")\n",
    "    if target in curr.operands:\n",
    "        print(curr)\n",
    "        # break\n",
    "        # print(\"...done.\")\n",
    "        continue\n",
    "    for succ in curr.moves():\n",
    "        if hash(succ) not in seen:\n",
    "            # print(\">>> \" + str(succ))\n",
    "            seen.add(hash(succ))\n",
    "            queue.append(succ)"
   ]
  },
  {
   "cell_type": "code",
   "execution_count": null,
   "id": "b67e277c-a2d6-4ea6-a3a9-d1fc698ab3bf",
   "metadata": {},
   "outputs": [],
   "source": []
  }
 ],
 "metadata": {
  "kernelspec": {
   "display_name": "Python 3 (ipykernel)",
   "language": "python",
   "name": "python3"
  },
  "language_info": {
   "codemirror_mode": {
    "name": "ipython",
    "version": 3
   },
   "file_extension": ".py",
   "mimetype": "text/x-python",
   "name": "python",
   "nbconvert_exporter": "python",
   "pygments_lexer": "ipython3",
   "version": "3.10.0"
  }
 },
 "nbformat": 4,
 "nbformat_minor": 5
}
